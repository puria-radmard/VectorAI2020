{
 "cells": [
  {
   "cell_type": "code",
   "execution_count": 1,
   "metadata": {},
   "outputs": [],
   "source": [
    "# Based on Entity Linking: A primary NLP task for Information Extraction on Medium\n",
    "# https://medium.com/analytics-vidhya/entity-linking-a-primary-nlp-task-for-information-extraction-22f9d4b90aa8"
   ]
  },
  {
   "cell_type": "code",
   "execution_count": 2,
   "metadata": {},
   "outputs": [],
   "source": [
    "# While NER can tell us what words are in entities in a text, \"NEL will assign a unique identity to entities mentioned in the text. In other words, NEL is the task to link entity mentions in text with their corresponding entities in a knowledge base\""
   ]
  },
  {
   "cell_type": "code",
   "execution_count": 4,
   "metadata": {},
   "outputs": [
    {
     "output_type": "display_data",
     "data": {
      "text/plain": "<IPython.core.display.HTML object>",
      "text/html": "<!DOCTYPE HTML PUBLIC \"-//W3C//DTD HTML 4.01 Transitional//EN\" \"http://www.w3.org/TR/html4/loose.dtd\">\n<html>\n<head>\n<title>DBpedia Spotlight annotation</title>\n<meta http-equiv=\"Content-type\" content=\"text/html;charset=UTF-8\">\n</head>\n<body>\n<div>\nMy name is Sundar. I am currently doing Master's in <a href=\"http://dbpedia.org/resource/Artificial_intelligence\" title=\"http://dbpedia.org/resource/Artificial_intelligence\" target=\"_blank\">Artificial Intelligence</a> at <a href=\"http://dbpedia.org/resource/National_University_of_Singapore\" title=\"http://dbpedia.org/resource/National_University_of_Singapore\" target=\"_blank\">NUS</a>. I <a href=\"http://dbpedia.org/resource/Love\" title=\"http://dbpedia.org/resource/Love\" target=\"_blank\">love</a> <a href=\"http://dbpedia.org/resource/Natural-language_processing\" title=\"http://dbpedia.org/resource/Natural-language_processing\" target=\"_blank\">Natural Language Processing</a>.\n</div>\n</body>\n</html>"
     },
     "metadata": {}
    }
   ],
   "source": [
    "# Let's use DBpedia Spotlight API to do NEL\n",
    "\n",
    "import requests\n",
    "from IPython.core.display import display, HTML\n",
    "\n",
    "# Create an exception for APIs\n",
    "class APIError(Exception):\n",
    "    def __init__(self, status):\n",
    "        self.status = status\n",
    "    def __str__(self):\n",
    "        return \"APIError: status={}\".format(self.status)\n",
    "\n",
    "# Spotlight API\n",
    "base_url = \"http://api.dbpedia-spotlight.org/en/annotate\"\n",
    "\n",
    "# Parameters: text is to be annotated, and confidence is the score for that linking\n",
    "params = {\"text\": \"My name is Sundar. I am currently doing Master's in Artificial Intelligence at NUS. I love Natural Language Processing.\",\n",
    "          \"confidence\": 0.35\n",
    "         }\n",
    "\n",
    "# Response content type\n",
    "headers = {'accept': 'text/html'}\n",
    "\n",
    "# GET Request\n",
    "res = requests.get(base_url, params = params, headers=headers)\n",
    "if res.status_code != 200:\n",
    "    raise APIError(res.status_code)\n",
    "\n",
    "display(HTML(res.text))\n",
    "\n",
    "# Here we see the relevant links put into the text\n",
    "# This can also be done with pyspotlight"
   ]
  }
 ],
 "metadata": {
  "language_info": {
   "codemirror_mode": {
    "name": "ipython",
    "version": 3
   },
   "file_extension": ".py",
   "mimetype": "text/x-python",
   "name": "python",
   "nbconvert_exporter": "python",
   "pygments_lexer": "ipython3",
   "version": "3.7.6-final"
  },
  "orig_nbformat": 2,
  "kernelspec": {
   "name": "python3",
   "display_name": "Python 3"
  }
 },
 "nbformat": 4,
 "nbformat_minor": 2
}