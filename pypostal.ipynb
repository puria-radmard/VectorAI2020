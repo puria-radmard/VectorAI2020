{
 "cells": [
  {
   "cell_type": "code",
   "execution_count": 3,
   "metadata": {},
   "outputs": [],
   "source": [
    "home_address = \"8 Rosefinch Road, Altrincham, Trafford, Greater Manchester, WA14 5YB\"\n",
    "home_address2 = \"8 Rosefinch Road, West Timperley, Altrincham, Cheshire, WA14 5YB\"\n",
    "uni_address = \"72 Grange Road, Burrell's Field, Cambridge, Cambridgeshire, CB3 9DH\"\n",
    "uni_address_2 = \"72 Grange Road, Trinity College, Cambridge, Cambridgeshire, CB3 9DH\"\n",
    "\n",
    "addresses = [home_address, home_address2, uni_address, uni_address_2]"
   ]
  },
  {
   "cell_type": "code",
   "execution_count": 4,
   "metadata": {},
   "outputs": [
    {
     "output_type": "stream",
     "name": "stdout",
     "text": "['8 rosefinch road altrincham trafford greater manchester wa14 5yb', '8 rosefinch road altrincham trafford greater manchester wa14 5 yb', '8 rosefinch road altrincham trafford greater manchester washington 14 5yb', '8 rosefinch road altrincham trafford greater manchester wa 14 5yb', '8 rosefinch road altrincham trafford greater manchester western australia 14 5yb', '8 rosefinch road altrincham trafford greater manchester washington 14 5 yb', '8 rosefinch road altrincham trafford greater manchester wa 14 5 yb', '8 rosefinch road altrincham trafford greater manchester western australia 14 5 yb']\n['8 rosefinch road west timperley altrincham cheshire wa14 5yb', '8 rosefinch road west timperley altrincham cheshire wa14 5 yb', '8 rosefinch road west timperley altrincham cheshire washington 14 5yb', '8 rosefinch road west timperley altrincham cheshire wa 14 5yb', '8 rosefinch road west timperley altrincham cheshire western australia 14 5yb', '8 rosefinch road west timperley altrincham cheshire washington 14 5 yb', '8 rosefinch road west timperley altrincham cheshire wa 14 5 yb', '8 rosefinch road west timperley altrincham cheshire western australia 14 5 yb']\n['72 grange road burrells field cambridge cambridgeshire cb3 9dh', '72 grange road burrells field cambridge cambridgeshire cb3 9 dh', '72 grange road burrells field cambridge cambridgeshire cb 3 9dh', '72 grange road burrells field cambridge cambridgeshire cb 3 9 dh']\n['72 grange road trinity college cambridge cambridgeshire cb3 9dh', '72 grange road trinity college cambridge cambridgeshire cb3 9 dh', '72 grange road trinity college cambridge cambridgeshire cb 3 9dh', '72 grange road trinity college cambridge cambridgeshire cb 3 9 dh']\n"
    }
   ],
   "source": [
    "from postal.expand import expand_address\n",
    "\n",
    "# We can see the ambiguity of the postcode here, which is then insected with the dictionaries. This also shows the lowercase for all tokens\n",
    "for address in addresses:\n",
    "    print(expand_address(address))"
   ]
  },
  {
   "cell_type": "code",
   "execution_count": 5,
   "metadata": {},
   "outputs": [
    {
     "output_type": "stream",
     "name": "stdout",
     "text": "[('8', 'house_number'), ('rosefinch road', 'road'), ('altrincham trafford', 'city'), ('greater manchester', 'state_district'), ('wa14 5yb', 'postcode')]\n[('8', 'house_number'), ('rosefinch road', 'road'), ('west timperley altrincham', 'city'), ('cheshire', 'state_district'), ('wa14 5yb', 'postcode')]\n[('72', 'house_number'), (\"grange road burrell's field\", 'road'), ('cambridge', 'city'), ('cambridgeshire', 'state_district'), ('cb3 9dh', 'postcode')]\n[('72', 'house_number'), ('grange road trinity college', 'road'), ('cambridge', 'city'), ('cambridgeshire', 'state_district'), ('cb3 9dh', 'postcode')]\n"
    }
   ],
   "source": [
    "from postal.parser import parse_address\n",
    "\n",
    "# Very close! Interested that state district is seperate to state_district. Also that parser cannot seem to handle college/accodomation names, perhaps due to order?\n",
    "for address in addresses:\n",
    "    print(parse_address(address))"
   ]
  },
  {
   "cell_type": "code",
   "execution_count": 6,
   "metadata": {},
   "outputs": [
    {
     "output_type": "stream",
     "name": "stdout",
     "text": "[('8', NUMERIC), ('rosefinch', WORD), ('road', WORD), (',', COMMA), ('altrincham', WORD), (',', COMMA), ('trafford', WORD), (',', COMMA), ('greater', WORD), ('manchester', WORD), (',', COMMA), ('wa14', NUMERIC), ('5yb', NUMERIC)]\n[('8', NUMERIC), ('rosefinch', WORD), ('road', WORD), (',', COMMA), ('west', WORD), ('timperley', WORD), (',', COMMA), ('altrincham', WORD), (',', COMMA), ('cheshire', WORD), (',', COMMA), ('wa14', NUMERIC), ('5yb', NUMERIC)]\n[('72', NUMERIC), ('grange', WORD), ('road', WORD), (',', COMMA), ('burrells', WORD), ('field', WORD), (',', COMMA), ('cambridge', WORD), (',', COMMA), ('cambridgeshire', WORD), (',', COMMA), ('cb3', NUMERIC), ('9dh', NUMERIC)]\n[('72', NUMERIC), ('grange', WORD), ('road', WORD), (',', COMMA), ('trinity', WORD), ('college', WORD), (',', COMMA), ('cambridge', WORD), (',', COMMA), ('cambridgeshire', WORD), (',', COMMA), ('cb3', NUMERIC), ('9dh', NUMERIC)]\n"
    }
   ],
   "source": [
    "from postal.normalize import normalized_tokens\n",
    "\n",
    "for address in addresses:\n",
    "    print(normalized_tokens(address))"
   ]
  },
  {
   "cell_type": "code",
   "execution_count": null,
   "metadata": {},
   "outputs": [],
   "source": [
    "from postal.dedupe import *"
   ]
  }
 ],
 "metadata": {
  "language_info": {
   "codemirror_mode": {
    "name": "ipython",
    "version": 3
   },
   "file_extension": ".py",
   "mimetype": "text/x-python",
   "name": "python",
   "nbconvert_exporter": "python",
   "pygments_lexer": "ipython3",
   "version": "3.8.2-final"
  },
  "orig_nbformat": 2,
  "kernelspec": {
   "name": "python38264bit7d7fb46cf8184372a0eba756136f58f4",
   "display_name": "Python 3.8.2 64-bit"
  }
 },
 "nbformat": 4,
 "nbformat_minor": 2
}