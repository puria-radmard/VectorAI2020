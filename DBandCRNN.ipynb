{
 "cells": [
  {
   "cell_type": "code",
   "execution_count": 1,
   "metadata": {},
   "outputs": [],
   "source": [
    "import sys\n",
    "import os\n",
    "import cv2\n",
    "import numpy as np\n",
    "\n",
    "sys.path.append(os.getcwd())\n",
    "sys.path.append(os.getcwd()+\"\\\\DB\")\n",
    "sys.path.append(os.getcwd()+\"\\\\CRNN\")\n",
    "\n",
    "import DB.model as dbmodel\n",
    "from DB.inference import resize_image\n",
    "import CRNN.models.crnn as crnnmodel"
   ]
  },
  {
   "cell_type": "code",
   "execution_count": 5,
   "metadata": {},
   "outputs": [],
   "source": [
    "class Interpreter():\n",
    "    \n",
    "    def __init__(self):\n",
    "        self.db = dbmodel()[-1]\n",
    "        self.mean = np.array([103.939, 116.779, 123.68])\n",
    "        \n",
    "    def findWords(self, images):\n",
    "        for image in images:\n",
    "            image = cv2.imread(image_path)\n",
    "            src_image = image.copy()\n",
    "            h, w = image.shape[:2]\n",
    "            image = resize_image(image)\n",
    "            image = image.astype(np.float32)\n",
    "            image -= self.mean\n",
    "            image_input = np.expand_dims(image, axis = 0)\n",
    "            p = self.model.predict(image_input)[0]"
   ]
  },
  {
   "cell_type": "code",
   "execution_count": null,
   "metadata": {},
   "outputs": [],
   "source": []
  }
 ],
 "metadata": {
  "kernelspec": {
   "display_name": "Python 3",
   "language": "python",
   "name": "python3"
  },
  "language_info": {
   "codemirror_mode": {
    "name": "ipython",
    "version": 3
   },
   "file_extension": ".py",
   "mimetype": "text/x-python",
   "name": "python",
   "nbconvert_exporter": "python",
   "pygments_lexer": "ipython3",
   "version": "3.7.6"
  }
 },
 "nbformat": 4,
 "nbformat_minor": 4
}
